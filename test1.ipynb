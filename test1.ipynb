{
 "cells": [
  {
   "cell_type": "markdown",
   "metadata": {},
   "source": [
    "## Installation"
   ]
  },
  {
   "cell_type": "code",
   "execution_count": 1,
   "metadata": {
    "scrolled": true
   },
   "outputs": [
    {
     "name": "stdout",
     "output_type": "stream",
     "text": [
      "Requirement already satisfied: tensortrade==0.0.1a17 in /usr/local/lib/python3.7/site-packages (0.0.1a17)\n",
      "Requirement already satisfied: gym==0.14.0 in /usr/local/lib/python3.7/site-packages (from tensortrade==0.0.1a17) (0.14.0)\n",
      "Requirement already satisfied: pandas==0.25.0 in /usr/local/lib/python3.7/site-packages (from tensortrade==0.0.1a17) (0.25.0)\n",
      "Requirement already satisfied: numpy==1.17.0 in /usr/local/lib/python3.7/site-packages (from tensortrade==0.0.1a17) (1.17.0)\n",
      "Requirement already satisfied: cloudpickle~=1.2.0 in /usr/local/lib/python3.7/site-packages (from gym==0.14.0->tensortrade==0.0.1a17) (1.2.2)\n",
      "Requirement already satisfied: scipy in /usr/local/lib/python3.7/site-packages (from gym==0.14.0->tensortrade==0.0.1a17) (1.3.1)\n",
      "Requirement already satisfied: six in /usr/local/lib/python3.7/site-packages (from gym==0.14.0->tensortrade==0.0.1a17) (1.12.0)\n",
      "Requirement already satisfied: pyglet<=1.3.2,>=1.2.0 in /usr/local/lib/python3.7/site-packages (from gym==0.14.0->tensortrade==0.0.1a17) (1.3.2)\n",
      "Requirement already satisfied: python-dateutil>=2.6.1 in /usr/local/lib/python3.7/site-packages (from pandas==0.25.0->tensortrade==0.0.1a17) (2.8.0)\n",
      "Requirement already satisfied: pytz>=2017.2 in /usr/local/lib/python3.7/site-packages (from pandas==0.25.0->tensortrade==0.0.1a17) (2019.2)\n",
      "Requirement already satisfied: future in /usr/local/lib/python3.7/site-packages (from pyglet<=1.3.2,>=1.2.0->gym==0.14.0->tensortrade==0.0.1a17) (0.17.1)\n"
     ]
    }
   ],
   "source": [
    "!pip3 install tensortrade==0.0.1a17"
   ]
  },
  {
   "cell_type": "code",
   "execution_count": 2,
   "metadata": {},
   "outputs": [
    {
     "name": "stdout",
     "output_type": "stream",
     "text": [
      "Requirement already satisfied: tensortrade[baselines,ccxt,fbm,ta-lib,tensorforce,tf] in /usr/local/lib/python3.7/site-packages (0.0.1a17)\n",
      "\u001b[33m  WARNING: tensortrade 0.0.1a17 does not provide the extra 'ta-lib'\u001b[0m\n",
      "Requirement already satisfied: numpy==1.17.0 in /usr/local/lib/python3.7/site-packages (from tensortrade[baselines,ccxt,fbm,ta-lib,tensorforce,tf]) (1.17.0)\n",
      "Requirement already satisfied: gym==0.14.0 in /usr/local/lib/python3.7/site-packages (from tensortrade[baselines,ccxt,fbm,ta-lib,tensorforce,tf]) (0.14.0)\n",
      "Requirement already satisfied: pandas==0.25.0 in /usr/local/lib/python3.7/site-packages (from tensortrade[baselines,ccxt,fbm,ta-lib,tensorforce,tf]) (0.25.0)\n",
      "Requirement already satisfied: mpi4py; extra == \"baselines\" in /usr/local/lib/python3.7/site-packages (from tensortrade[baselines,ccxt,fbm,ta-lib,tensorforce,tf]) (3.0.2)\n",
      "Requirement already satisfied: stable-baselines==2.8.0; extra == \"baselines\" in /usr/local/lib/python3.7/site-packages (from tensortrade[baselines,ccxt,fbm,ta-lib,tensorforce,tf]) (2.8.0)\n",
      "Requirement already satisfied: ccxt==1.18.1220; extra == \"ccxt\" in /usr/local/lib/python3.7/site-packages (from tensortrade[baselines,ccxt,fbm,ta-lib,tensorforce,tf]) (1.18.1220)\n",
      "Requirement already satisfied: stochastic==0.4.0; extra == \"fbm\" in /usr/local/lib/python3.7/site-packages (from tensortrade[baselines,ccxt,fbm,ta-lib,tensorforce,tf]) (0.4.0)\n",
      "Requirement already satisfied: tensorforce==0.4.4; extra == \"tensorforce\" in /usr/local/lib/python3.7/site-packages (from tensortrade[baselines,ccxt,fbm,ta-lib,tensorforce,tf]) (0.4.4)\n",
      "Requirement already satisfied: tensorflow==1.13.1; extra == \"tf\" in /usr/local/lib/python3.7/site-packages (from tensortrade[baselines,ccxt,fbm,ta-lib,tensorforce,tf]) (1.13.1)\n",
      "Requirement already satisfied: six in /usr/local/lib/python3.7/site-packages (from gym==0.14.0->tensortrade[baselines,ccxt,fbm,ta-lib,tensorforce,tf]) (1.12.0)\n",
      "Requirement already satisfied: pyglet<=1.3.2,>=1.2.0 in /usr/local/lib/python3.7/site-packages (from gym==0.14.0->tensortrade[baselines,ccxt,fbm,ta-lib,tensorforce,tf]) (1.3.2)\n",
      "Requirement already satisfied: cloudpickle~=1.2.0 in /usr/local/lib/python3.7/site-packages (from gym==0.14.0->tensortrade[baselines,ccxt,fbm,ta-lib,tensorforce,tf]) (1.2.2)\n",
      "Requirement already satisfied: scipy in /usr/local/lib/python3.7/site-packages (from gym==0.14.0->tensortrade[baselines,ccxt,fbm,ta-lib,tensorforce,tf]) (1.3.1)\n",
      "Requirement already satisfied: pytz>=2017.2 in /usr/local/lib/python3.7/site-packages (from pandas==0.25.0->tensortrade[baselines,ccxt,fbm,ta-lib,tensorforce,tf]) (2019.2)\n",
      "Requirement already satisfied: python-dateutil>=2.6.1 in /usr/local/lib/python3.7/site-packages (from pandas==0.25.0->tensortrade[baselines,ccxt,fbm,ta-lib,tensorforce,tf]) (2.8.0)\n",
      "Requirement already satisfied: joblib in /usr/local/lib/python3.7/site-packages (from stable-baselines==2.8.0; extra == \"baselines\"->tensortrade[baselines,ccxt,fbm,ta-lib,tensorforce,tf]) (0.13.2)\n",
      "Requirement already satisfied: opencv-python in /usr/local/lib/python3.7/site-packages (from stable-baselines==2.8.0; extra == \"baselines\"->tensortrade[baselines,ccxt,fbm,ta-lib,tensorforce,tf]) (4.1.0.25)\n",
      "Requirement already satisfied: matplotlib in /usr/local/lib/python3.7/site-packages (from stable-baselines==2.8.0; extra == \"baselines\"->tensortrade[baselines,ccxt,fbm,ta-lib,tensorforce,tf]) (2.2.3)\n",
      "Requirement already satisfied: certifi>=2018.1.18 in /usr/local/lib/python3.7/site-packages (from ccxt==1.18.1220; extra == \"ccxt\"->tensortrade[baselines,ccxt,fbm,ta-lib,tensorforce,tf]) (2019.3.9)\n",
      "Requirement already satisfied: setuptools>=38.5.1 in /usr/local/lib/python3.7/site-packages (from ccxt==1.18.1220; extra == \"ccxt\"->tensortrade[baselines,ccxt,fbm,ta-lib,tensorforce,tf]) (41.0.1)\n",
      "Requirement already satisfied: aiodns==1.1.1; python_version >= \"3.5.2\" in /usr/local/lib/python3.7/site-packages (from ccxt==1.18.1220; extra == \"ccxt\"->tensortrade[baselines,ccxt,fbm,ta-lib,tensorforce,tf]) (1.1.1)\n",
      "Requirement already satisfied: requests>=2.18.4 in /usr/local/lib/python3.7/site-packages (from ccxt==1.18.1220; extra == \"ccxt\"->tensortrade[baselines,ccxt,fbm,ta-lib,tensorforce,tf]) (2.21.0)\n",
      "Requirement already satisfied: yarl==1.1.0; python_version >= \"3.5.2\" in /usr/local/lib/python3.7/site-packages (from ccxt==1.18.1220; extra == \"ccxt\"->tensortrade[baselines,ccxt,fbm,ta-lib,tensorforce,tf]) (1.1.0)\n",
      "Requirement already satisfied: cryptography>=2.6.1 in /usr/local/lib/python3.7/site-packages (from ccxt==1.18.1220; extra == \"ccxt\"->tensortrade[baselines,ccxt,fbm,ta-lib,tensorforce,tf]) (2.7)\n",
      "Requirement already satisfied: aiohttp>=3.0.1; python_version >= \"3.5.2\" in /usr/local/lib/python3.7/site-packages (from ccxt==1.18.1220; extra == \"ccxt\"->tensortrade[baselines,ccxt,fbm,ta-lib,tensorforce,tf]) (3.5.4)\n",
      "Requirement already satisfied: tqdm in /usr/local/lib/python3.7/site-packages (from tensorforce==0.4.4; extra == \"tensorforce\"->tensortrade[baselines,ccxt,fbm,ta-lib,tensorforce,tf]) (4.35.0)\n",
      "Requirement already satisfied: pytest in /usr/local/lib/python3.7/site-packages (from tensorforce==0.4.4; extra == \"tensorforce\"->tensortrade[baselines,ccxt,fbm,ta-lib,tensorforce,tf]) (5.1.2)\n",
      "Requirement already satisfied: keras-applications>=1.0.6 in /Users/benjamincherion/Library/Python/3.7/lib/python/site-packages (from tensorflow==1.13.1; extra == \"tf\"->tensortrade[baselines,ccxt,fbm,ta-lib,tensorforce,tf]) (1.0.8)\n",
      "Requirement already satisfied: astor>=0.6.0 in /Users/benjamincherion/Library/Python/3.7/lib/python/site-packages (from tensorflow==1.13.1; extra == \"tf\"->tensortrade[baselines,ccxt,fbm,ta-lib,tensorforce,tf]) (0.8.0)\n",
      "Requirement already satisfied: grpcio>=1.8.6 in /Users/benjamincherion/Library/Python/3.7/lib/python/site-packages (from tensorflow==1.13.1; extra == \"tf\"->tensortrade[baselines,ccxt,fbm,ta-lib,tensorforce,tf]) (1.22.0)\n",
      "Requirement already satisfied: absl-py>=0.1.6 in /Users/benjamincherion/Library/Python/3.7/lib/python/site-packages (from tensorflow==1.13.1; extra == \"tf\"->tensortrade[baselines,ccxt,fbm,ta-lib,tensorforce,tf]) (0.7.1)\n",
      "Requirement already satisfied: protobuf>=3.6.1 in /Users/benjamincherion/Library/Python/3.7/lib/python/site-packages (from tensorflow==1.13.1; extra == \"tf\"->tensortrade[baselines,ccxt,fbm,ta-lib,tensorforce,tf]) (3.9.1)\n",
      "Requirement already satisfied: termcolor>=1.1.0 in /Users/benjamincherion/Library/Python/3.7/lib/python/site-packages (from tensorflow==1.13.1; extra == \"tf\"->tensortrade[baselines,ccxt,fbm,ta-lib,tensorforce,tf]) (1.1.0)\n",
      "Requirement already satisfied: gast>=0.2.0 in /Users/benjamincherion/Library/Python/3.7/lib/python/site-packages (from tensorflow==1.13.1; extra == \"tf\"->tensortrade[baselines,ccxt,fbm,ta-lib,tensorforce,tf]) (0.2.2)\n",
      "Requirement already satisfied: tensorflow-estimator<1.14.0rc0,>=1.13.0 in /usr/local/lib/python3.7/site-packages (from tensorflow==1.13.1; extra == \"tf\"->tensortrade[baselines,ccxt,fbm,ta-lib,tensorforce,tf]) (1.13.0)\n",
      "Requirement already satisfied: keras-preprocessing>=1.0.5 in /Users/benjamincherion/Library/Python/3.7/lib/python/site-packages (from tensorflow==1.13.1; extra == \"tf\"->tensortrade[baselines,ccxt,fbm,ta-lib,tensorforce,tf]) (1.1.0)\n",
      "Requirement already satisfied: tensorboard<1.14.0,>=1.13.0 in /usr/local/lib/python3.7/site-packages (from tensorflow==1.13.1; extra == \"tf\"->tensortrade[baselines,ccxt,fbm,ta-lib,tensorforce,tf]) (1.13.1)\n",
      "Requirement already satisfied: wheel>=0.26 in /usr/local/lib/python3.7/site-packages (from tensorflow==1.13.1; extra == \"tf\"->tensortrade[baselines,ccxt,fbm,ta-lib,tensorforce,tf]) (0.33.4)\n",
      "Requirement already satisfied: future in /usr/local/lib/python3.7/site-packages (from pyglet<=1.3.2,>=1.2.0->gym==0.14.0->tensortrade[baselines,ccxt,fbm,ta-lib,tensorforce,tf]) (0.17.1)\n",
      "Requirement already satisfied: kiwisolver>=1.0.1 in /usr/local/lib/python3.7/site-packages (from matplotlib->stable-baselines==2.8.0; extra == \"baselines\"->tensortrade[baselines,ccxt,fbm,ta-lib,tensorforce,tf]) (1.1.0)\n",
      "Requirement already satisfied: cycler>=0.10 in /usr/local/lib/python3.7/site-packages (from matplotlib->stable-baselines==2.8.0; extra == \"baselines\"->tensortrade[baselines,ccxt,fbm,ta-lib,tensorforce,tf]) (0.10.0)\n",
      "Requirement already satisfied: pyparsing!=2.0.4,!=2.1.2,!=2.1.6,>=2.0.1 in /usr/local/lib/python3.7/site-packages (from matplotlib->stable-baselines==2.8.0; extra == \"baselines\"->tensortrade[baselines,ccxt,fbm,ta-lib,tensorforce,tf]) (2.4.2)\n",
      "Requirement already satisfied: pycares>=1.0.0 in /usr/local/lib/python3.7/site-packages (from aiodns==1.1.1; python_version >= \"3.5.2\"->ccxt==1.18.1220; extra == \"ccxt\"->tensortrade[baselines,ccxt,fbm,ta-lib,tensorforce,tf]) (3.0.0)\n"
     ]
    },
    {
     "name": "stdout",
     "output_type": "stream",
     "text": [
      "Requirement already satisfied: urllib3<1.25,>=1.21.1 in /usr/local/lib/python3.7/site-packages (from requests>=2.18.4->ccxt==1.18.1220; extra == \"ccxt\"->tensortrade[baselines,ccxt,fbm,ta-lib,tensorforce,tf]) (1.24.2)\n",
      "Requirement already satisfied: chardet<3.1.0,>=3.0.2 in /usr/local/lib/python3.7/site-packages (from requests>=2.18.4->ccxt==1.18.1220; extra == \"ccxt\"->tensortrade[baselines,ccxt,fbm,ta-lib,tensorforce,tf]) (3.0.4)\n",
      "Requirement already satisfied: idna<2.9,>=2.5 in /usr/local/lib/python3.7/site-packages (from requests>=2.18.4->ccxt==1.18.1220; extra == \"ccxt\"->tensortrade[baselines,ccxt,fbm,ta-lib,tensorforce,tf]) (2.8)\n",
      "Requirement already satisfied: multidict>=4.0 in /usr/local/lib/python3.7/site-packages (from yarl==1.1.0; python_version >= \"3.5.2\"->ccxt==1.18.1220; extra == \"ccxt\"->tensortrade[baselines,ccxt,fbm,ta-lib,tensorforce,tf]) (4.5.2)\n",
      "Requirement already satisfied: asn1crypto>=0.21.0 in /usr/local/lib/python3.7/site-packages (from cryptography>=2.6.1->ccxt==1.18.1220; extra == \"ccxt\"->tensortrade[baselines,ccxt,fbm,ta-lib,tensorforce,tf]) (0.24.0)\n",
      "Requirement already satisfied: cffi!=1.11.3,>=1.8 in /usr/local/lib/python3.7/site-packages (from cryptography>=2.6.1->ccxt==1.18.1220; extra == \"ccxt\"->tensortrade[baselines,ccxt,fbm,ta-lib,tensorforce,tf]) (1.12.3)\n",
      "Requirement already satisfied: attrs>=17.3.0 in /usr/local/lib/python3.7/site-packages (from aiohttp>=3.0.1; python_version >= \"3.5.2\"->ccxt==1.18.1220; extra == \"ccxt\"->tensortrade[baselines,ccxt,fbm,ta-lib,tensorforce,tf]) (19.1.0)\n",
      "Requirement already satisfied: async-timeout<4.0,>=3.0 in /usr/local/lib/python3.7/site-packages (from aiohttp>=3.0.1; python_version >= \"3.5.2\"->ccxt==1.18.1220; extra == \"ccxt\"->tensortrade[baselines,ccxt,fbm,ta-lib,tensorforce,tf]) (3.0.1)\n",
      "Requirement already satisfied: atomicwrites>=1.0 in /usr/local/lib/python3.7/site-packages (from pytest->tensorforce==0.4.4; extra == \"tensorforce\"->tensortrade[baselines,ccxt,fbm,ta-lib,tensorforce,tf]) (1.3.0)\n",
      "Requirement already satisfied: pluggy<1.0,>=0.12 in /usr/local/lib/python3.7/site-packages (from pytest->tensorforce==0.4.4; extra == \"tensorforce\"->tensortrade[baselines,ccxt,fbm,ta-lib,tensorforce,tf]) (0.12.0)\n",
      "Requirement already satisfied: wcwidth in /usr/local/lib/python3.7/site-packages (from pytest->tensorforce==0.4.4; extra == \"tensorforce\"->tensortrade[baselines,ccxt,fbm,ta-lib,tensorforce,tf]) (0.1.7)\n",
      "Requirement already satisfied: more-itertools>=4.0.0 in /usr/local/lib/python3.7/site-packages (from pytest->tensorforce==0.4.4; extra == \"tensorforce\"->tensortrade[baselines,ccxt,fbm,ta-lib,tensorforce,tf]) (7.2.0)\n",
      "Requirement already satisfied: py>=1.5.0 in /usr/local/lib/python3.7/site-packages (from pytest->tensorforce==0.4.4; extra == \"tensorforce\"->tensortrade[baselines,ccxt,fbm,ta-lib,tensorforce,tf]) (1.8.0)\n",
      "Requirement already satisfied: importlib-metadata>=0.12; python_version < \"3.8\" in /usr/local/lib/python3.7/site-packages (from pytest->tensorforce==0.4.4; extra == \"tensorforce\"->tensortrade[baselines,ccxt,fbm,ta-lib,tensorforce,tf]) (0.20)\n",
      "Requirement already satisfied: packaging in /usr/local/lib/python3.7/site-packages (from pytest->tensorforce==0.4.4; extra == \"tensorforce\"->tensortrade[baselines,ccxt,fbm,ta-lib,tensorforce,tf]) (19.1)\n",
      "Requirement already satisfied: h5py in /Users/benjamincherion/Library/Python/3.7/lib/python/site-packages (from keras-applications>=1.0.6->tensorflow==1.13.1; extra == \"tf\"->tensortrade[baselines,ccxt,fbm,ta-lib,tensorforce,tf]) (2.9.0)\n",
      "Requirement already satisfied: mock>=2.0.0 in /usr/local/lib/python3.7/site-packages (from tensorflow-estimator<1.14.0rc0,>=1.13.0->tensorflow==1.13.1; extra == \"tf\"->tensortrade[baselines,ccxt,fbm,ta-lib,tensorforce,tf]) (3.0.5)\n",
      "Requirement already satisfied: markdown>=2.6.8 in /Users/benjamincherion/Library/Python/3.7/lib/python/site-packages (from tensorboard<1.14.0,>=1.13.0->tensorflow==1.13.1; extra == \"tf\"->tensortrade[baselines,ccxt,fbm,ta-lib,tensorforce,tf]) (3.1.1)\n",
      "Requirement already satisfied: werkzeug>=0.11.15 in /Users/benjamincherion/Library/Python/3.7/lib/python/site-packages (from tensorboard<1.14.0,>=1.13.0->tensorflow==1.13.1; extra == \"tf\"->tensortrade[baselines,ccxt,fbm,ta-lib,tensorforce,tf]) (0.15.5)\n",
      "Requirement already satisfied: pycparser in /usr/local/lib/python3.7/site-packages (from cffi!=1.11.3,>=1.8->cryptography>=2.6.1->ccxt==1.18.1220; extra == \"ccxt\"->tensortrade[baselines,ccxt,fbm,ta-lib,tensorforce,tf]) (2.19)\n",
      "Requirement already satisfied: zipp>=0.5 in /usr/local/lib/python3.7/site-packages (from importlib-metadata>=0.12; python_version < \"3.8\"->pytest->tensorforce==0.4.4; extra == \"tensorforce\"->tensortrade[baselines,ccxt,fbm,ta-lib,tensorforce,tf]) (0.6.0)\n"
     ]
    }
   ],
   "source": [
    "!pip3 install tensortrade[tf,tensorforce,baselines,ccxt,fbm,ta-lib]"
   ]
  },
  {
   "cell_type": "markdown",
   "metadata": {},
   "source": [
    "## Creating an environment"
   ]
  },
  {
   "cell_type": "code",
   "execution_count": 3,
   "metadata": {},
   "outputs": [
    {
     "name": "stderr",
     "output_type": "stream",
     "text": [
      "/usr/local/lib/python3.7/site-packages/tensorflow/python/framework/dtypes.py:526: FutureWarning: Passing (type, 1) or '1type' as a synonym of type is deprecated; in a future version of numpy, it will be understood as (type, (1,)) / '(1,)type'.\n",
      "  _np_qint8 = np.dtype([(\"qint8\", np.int8, 1)])\n",
      "/usr/local/lib/python3.7/site-packages/tensorflow/python/framework/dtypes.py:527: FutureWarning: Passing (type, 1) or '1type' as a synonym of type is deprecated; in a future version of numpy, it will be understood as (type, (1,)) / '(1,)type'.\n",
      "  _np_quint8 = np.dtype([(\"quint8\", np.uint8, 1)])\n",
      "/usr/local/lib/python3.7/site-packages/tensorflow/python/framework/dtypes.py:528: FutureWarning: Passing (type, 1) or '1type' as a synonym of type is deprecated; in a future version of numpy, it will be understood as (type, (1,)) / '(1,)type'.\n",
      "  _np_qint16 = np.dtype([(\"qint16\", np.int16, 1)])\n",
      "/usr/local/lib/python3.7/site-packages/tensorflow/python/framework/dtypes.py:529: FutureWarning: Passing (type, 1) or '1type' as a synonym of type is deprecated; in a future version of numpy, it will be understood as (type, (1,)) / '(1,)type'.\n",
      "  _np_quint16 = np.dtype([(\"quint16\", np.uint16, 1)])\n",
      "/usr/local/lib/python3.7/site-packages/tensorflow/python/framework/dtypes.py:530: FutureWarning: Passing (type, 1) or '1type' as a synonym of type is deprecated; in a future version of numpy, it will be understood as (type, (1,)) / '(1,)type'.\n",
      "  _np_qint32 = np.dtype([(\"qint32\", np.int32, 1)])\n",
      "/usr/local/lib/python3.7/site-packages/tensorflow/python/framework/dtypes.py:535: FutureWarning: Passing (type, 1) or '1type' as a synonym of type is deprecated; in a future version of numpy, it will be understood as (type, (1,)) / '(1,)type'.\n",
      "  np_resource = np.dtype([(\"resource\", np.ubyte, 1)])\n"
     ]
    }
   ],
   "source": [
    "from tensortrade.exchanges.simulated import FBMExchange\n",
    "from tensortrade.features.scalers import MinMaxNormalizer\n",
    "from tensortrade.features.stationarity import FractionalDifference\n",
    "from tensortrade.features import FeaturePipeline\n",
    "from tensortrade.rewards import SimpleProfitStrategy\n",
    "from tensortrade.actions import DiscreteActionStrategy\n",
    "from tensortrade.environments import TradingEnvironment\n",
    "\n",
    "exchange = FBMExchange(base_instrument='BTC', timeframe='1h')\n",
    "\n",
    "normalize_price = MinMaxNormalizer(inplace=True)\n",
    "difference = FractionalDifference([\"open\", \"high\", \"low\", \"close\"], inplace=True)\n",
    "feature_pipeline = FeaturePipeline(steps=[normalize_price, difference])\n",
    "\n",
    "reward_strategy = SimpleProfitStrategy()\n",
    "action_strategy = DiscreteActionStrategy(n_actions=20, instrument_symbol='ETH/BTC')\n",
    "\n",
    "environment = TradingEnvironment(exchange=exchange,\n",
    "                                 feature_pipeline=feature_pipeline,\n",
    "                                 action_strategy=action_strategy,\n",
    "                                 reward_strategy=reward_strategy)"
   ]
  },
  {
   "cell_type": "markdown",
   "metadata": {},
   "source": [
    "## Defining the agent"
   ]
  },
  {
   "cell_type": "code",
   "execution_count": 4,
   "metadata": {},
   "outputs": [],
   "source": [
    "from stable_baselines.common.policies import MlpLnLstmPolicy\n",
    "from stable_baselines import PPO2\n",
    "model = PPO2\n",
    "policy = MlpLnLstmPolicy\n",
    "params = { \"learning_rate\": 1e-5 , \"nminibatches\": 1}"
   ]
  },
  {
   "cell_type": "markdown",
   "metadata": {},
   "source": [
    "## Training a strategy"
   ]
  },
  {
   "cell_type": "code",
   "execution_count": 5,
   "metadata": {},
   "outputs": [],
   "source": [
    "from tensortrade.strategies import StableBaselinesTradingStrategy\n",
    "strategy = StableBaselinesTradingStrategy(environment=environment,\n",
    "                                          model=model,\n",
    "                                          policy=policy,\n",
    "                                          model_kwargs=params)"
   ]
  },
  {
   "cell_type": "code",
   "execution_count": null,
   "metadata": {},
   "outputs": [
    {
     "name": "stderr",
     "output_type": "stream",
     "text": [
      "/usr/local/lib/python3.7/site-packages/tensortrade/features/scalers/min_max_normalizer.py:75: SettingWithCopyWarning: \n",
      "A value is trying to be set on a copy of a slice from a DataFrame.\n",
      "Try using .loc[row_indexer,col_indexer] = value instead\n",
      "\n",
      "See the caveats in the documentation: http://pandas.pydata.org/pandas-docs/stable/user_guide/indexing.html#returning-a-view-versus-a-copy\n",
      "  X[column] = normalized_column\n",
      "/usr/local/lib/python3.7/site-packages/tensortrade/features/stationarity/fractional_difference.py:127: SettingWithCopyWarning: \n",
      "A value is trying to be set on a copy of a slice from a DataFrame.\n",
      "Try using .loc[row_indexer,col_indexer] = value instead\n",
      "\n",
      "See the caveats in the documentation: http://pandas.pydata.org/pandas-docs/stable/user_guide/indexing.html#returning-a-view-versus-a-copy\n",
      "  X[column] = diffed_series.fillna(method='bfill')\n"
     ]
    }
   ],
   "source": [
    "performance = strategy.run(episodes=1)\n",
    "\n",
    "performance[-5:]"
   ]
  },
  {
   "cell_type": "code",
   "execution_count": null,
   "metadata": {},
   "outputs": [],
   "source": []
  }
 ],
 "metadata": {
  "kernelspec": {
   "display_name": "Python 3",
   "language": "python",
   "name": "python3"
  },
  "language_info": {
   "codemirror_mode": {
    "name": "ipython",
    "version": 3
   },
   "file_extension": ".py",
   "mimetype": "text/x-python",
   "name": "python",
   "nbconvert_exporter": "python",
   "pygments_lexer": "ipython3",
   "version": "3.7.4"
  }
 },
 "nbformat": 4,
 "nbformat_minor": 2
}
